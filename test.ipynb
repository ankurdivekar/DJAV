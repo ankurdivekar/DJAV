{
 "cells": [
  {
   "cell_type": "code",
   "execution_count": 1,
   "metadata": {},
   "outputs": [],
   "source": [
    "import pandas as pd\n",
    "import plotly.express as px\n",
    "import streamlit as st\n",
    "from gsheetsdb import connect\n",
    "from google.oauth2 import service_account"
   ]
  },
  {
   "cell_type": "code",
   "execution_count": 2,
   "metadata": {},
   "outputs": [],
   "source": [
    "# Create a connection object.\n",
    "credentials = service_account.Credentials.from_service_account_info(\n",
    "    st.secrets[\"gcp_service_account\"],\n",
    "    scopes=[\n",
    "        \"https://www.googleapis.com/auth/spreadsheets\",\n",
    "    ],\n",
    ")"
   ]
  },
  {
   "cell_type": "code",
   "execution_count": 3,
   "metadata": {},
   "outputs": [],
   "source": [
    "with connect(credentials=credentials) as conn:\n",
    "    sheet_url = st.secrets[\"geolocations_url\"]\n",
    "    df_geoloc = conn.execute(f'SELECT * FROM \"{sheet_url}\"', headers=1).fetchall()\n",
    "    df_geoloc = pd.DataFrame.from_dict(data=df_geoloc)\n",
    "\n",
    "    sheet_url = st.secrets[\"sets_url\"]\n",
    "    df_sets = conn.execute(f'SELECT * FROM \"{sheet_url}\"', headers=1).fetchall()\n",
    "    df_sets = pd.DataFrame.from_dict(data=df_sets)\n",
    "\n",
    "    df = df_sets.merge(df_geoloc, on=[\"Venue\", \"Area\"], how=\"left\")\n",
    "\n",
    "    df[\"latitude\"] = pd.to_numeric(df.Latitude, errors=\"coerce\")\n",
    "    df[\"longitude\"] = pd.to_numeric(df.Longitude, errors=\"coerce\")\n",
    "    df = df.drop(columns=[\"Comments\", \"Payments\", \"Latitude\", \"Longitude\"])\n",
    "    df.Date = pd.to_datetime(\n",
    "        df.Date,\n",
    "        format=\"%Y-%m-%d\",\n",
    "        errors=\"coerce\",\n",
    "    )\n",
    "    df = df.sort_values(by=\"Date\").reset_index(drop=True)\n",
    "    df[\"SetNo\"] = df.index + 1\n",
    "    # df = df.set_index(\"SetNo\")\n",
    "    df.index = df.Date\n",
    "\n",
    "    for col in [\n",
    "        \"Event\",\n",
    "        \"Organizer\",\n",
    "        # \"EventType\",\n",
    "        \"VenueFullName\",\n",
    "    ]:\n",
    "        df[col] = df[col].astype(\"category\")"
   ]
  },
  {
   "cell_type": "code",
   "execution_count": 4,
   "metadata": {},
   "outputs": [
    {
     "data": {
      "text/html": [
       "<div>\n",
       "<style scoped>\n",
       "    .dataframe tbody tr th:only-of-type {\n",
       "        vertical-align: middle;\n",
       "    }\n",
       "\n",
       "    .dataframe tbody tr th {\n",
       "        vertical-align: top;\n",
       "    }\n",
       "\n",
       "    .dataframe thead th {\n",
       "        text-align: right;\n",
       "    }\n",
       "</style>\n",
       "<table border=\"1\" class=\"dataframe\">\n",
       "  <thead>\n",
       "    <tr style=\"text-align: right;\">\n",
       "      <th></th>\n",
       "      <th>Date</th>\n",
       "      <th>Event</th>\n",
       "      <th>Organizer</th>\n",
       "      <th>Venue</th>\n",
       "      <th>Area</th>\n",
       "      <th>EventType</th>\n",
       "      <th>VenueFullName</th>\n",
       "      <th>latitude</th>\n",
       "      <th>longitude</th>\n",
       "      <th>SetNo</th>\n",
       "    </tr>\n",
       "    <tr>\n",
       "      <th>Date</th>\n",
       "      <th></th>\n",
       "      <th></th>\n",
       "      <th></th>\n",
       "      <th></th>\n",
       "      <th></th>\n",
       "      <th></th>\n",
       "      <th></th>\n",
       "      <th></th>\n",
       "      <th></th>\n",
       "      <th></th>\n",
       "    </tr>\n",
       "  </thead>\n",
       "  <tbody>\n",
       "    <tr>\n",
       "      <th>2014-12-02</th>\n",
       "      <td>2014-12-02</td>\n",
       "      <td>Latin Tuesdays with DDLL</td>\n",
       "      <td>Danza De La Liga</td>\n",
       "      <td>Red Bar</td>\n",
       "      <td>Koregaon Park</td>\n",
       "      <td>Social</td>\n",
       "      <td>Red Bar, Koregaon Park</td>\n",
       "      <td>18.540159</td>\n",
       "      <td>73.908260</td>\n",
       "      <td>1</td>\n",
       "    </tr>\n",
       "    <tr>\n",
       "      <th>2014-12-16</th>\n",
       "      <td>2014-12-16</td>\n",
       "      <td>Latin Tuesdays with DDLL</td>\n",
       "      <td>Danza De La Liga</td>\n",
       "      <td>Red Bar</td>\n",
       "      <td>Koregaon Park</td>\n",
       "      <td>Social</td>\n",
       "      <td>Red Bar, Koregaon Park</td>\n",
       "      <td>18.540159</td>\n",
       "      <td>73.908260</td>\n",
       "      <td>2</td>\n",
       "    </tr>\n",
       "    <tr>\n",
       "      <th>2014-12-30</th>\n",
       "      <td>2014-12-30</td>\n",
       "      <td>Latin Tuesdays with DDLL</td>\n",
       "      <td>Danza De La Liga</td>\n",
       "      <td>Red Bar</td>\n",
       "      <td>Koregaon Park</td>\n",
       "      <td>Social</td>\n",
       "      <td>Red Bar, Koregaon Park</td>\n",
       "      <td>18.540159</td>\n",
       "      <td>73.908260</td>\n",
       "      <td>3</td>\n",
       "    </tr>\n",
       "    <tr>\n",
       "      <th>2015-01-13</th>\n",
       "      <td>2015-01-13</td>\n",
       "      <td>Latin Tuesdays with DDLL</td>\n",
       "      <td>Danza De La Liga</td>\n",
       "      <td>Red Bar</td>\n",
       "      <td>Koregaon Park</td>\n",
       "      <td>Social</td>\n",
       "      <td>Red Bar, Koregaon Park</td>\n",
       "      <td>18.540159</td>\n",
       "      <td>73.908260</td>\n",
       "      <td>4</td>\n",
       "    </tr>\n",
       "    <tr>\n",
       "      <th>2015-03-15</th>\n",
       "      <td>2015-03-15</td>\n",
       "      <td>Sunday Night with Salsa</td>\n",
       "      <td>enMotion</td>\n",
       "      <td>The Flying Saucer Skybar</td>\n",
       "      <td>Viman Nagar</td>\n",
       "      <td>Social</td>\n",
       "      <td>The Flying Saucer Skybar, Viman Nagar</td>\n",
       "      <td>18.568865</td>\n",
       "      <td>73.908304</td>\n",
       "      <td>5</td>\n",
       "    </tr>\n",
       "    <tr>\n",
       "      <th>...</th>\n",
       "      <td>...</td>\n",
       "      <td>...</td>\n",
       "      <td>...</td>\n",
       "      <td>...</td>\n",
       "      <td>...</td>\n",
       "      <td>...</td>\n",
       "      <td>...</td>\n",
       "      <td>...</td>\n",
       "      <td>...</td>\n",
       "      <td>...</td>\n",
       "    </tr>\n",
       "    <tr>\n",
       "      <th>2023-05-18</th>\n",
       "      <td>2023-05-18</td>\n",
       "      <td>Kolkata Salsa Weekend</td>\n",
       "      <td>Hitesh Salsawala</td>\n",
       "      <td>Offbeat CCU</td>\n",
       "      <td>Kolkata</td>\n",
       "      <td>Congress</td>\n",
       "      <td>Offbeat CCU, Kolkata</td>\n",
       "      <td>22.533211</td>\n",
       "      <td>88.395724</td>\n",
       "      <td>182</td>\n",
       "    </tr>\n",
       "    <tr>\n",
       "      <th>2023-05-19</th>\n",
       "      <td>2023-05-19</td>\n",
       "      <td>Kolkata Salsa Weekend</td>\n",
       "      <td>Hitesh Salsawala</td>\n",
       "      <td>Offbeat CCU</td>\n",
       "      <td>Kolkata</td>\n",
       "      <td>Congress</td>\n",
       "      <td>Offbeat CCU, Kolkata</td>\n",
       "      <td>22.533211</td>\n",
       "      <td>88.395724</td>\n",
       "      <td>183</td>\n",
       "    </tr>\n",
       "    <tr>\n",
       "      <th>2023-05-20</th>\n",
       "      <td>2023-05-20</td>\n",
       "      <td>Kolkata Salsa Weekend</td>\n",
       "      <td>Hitesh Salsawala</td>\n",
       "      <td>Offbeat CCU</td>\n",
       "      <td>Kolkata</td>\n",
       "      <td>Congress</td>\n",
       "      <td>Offbeat CCU, Kolkata</td>\n",
       "      <td>22.533211</td>\n",
       "      <td>88.395724</td>\n",
       "      <td>184</td>\n",
       "    </tr>\n",
       "    <tr>\n",
       "      <th>2023-05-21</th>\n",
       "      <td>2023-05-21</td>\n",
       "      <td>Kolkata Salsa Weekend</td>\n",
       "      <td>Hitesh Salsawala</td>\n",
       "      <td>Offbeat CCU</td>\n",
       "      <td>Kolkata</td>\n",
       "      <td>Congress</td>\n",
       "      <td>Offbeat CCU, Kolkata</td>\n",
       "      <td>22.533211</td>\n",
       "      <td>88.395724</td>\n",
       "      <td>185</td>\n",
       "    </tr>\n",
       "    <tr>\n",
       "      <th>2023-05-22</th>\n",
       "      <td>2023-05-22</td>\n",
       "      <td>KSW Survivor's Party</td>\n",
       "      <td>Hitesh Salsawala</td>\n",
       "      <td>Effingut Park Street</td>\n",
       "      <td>Kolkata</td>\n",
       "      <td>Social</td>\n",
       "      <td>Effingut Park Street, Kolkata</td>\n",
       "      <td>22.550999</td>\n",
       "      <td>88.353911</td>\n",
       "      <td>186</td>\n",
       "    </tr>\n",
       "  </tbody>\n",
       "</table>\n",
       "<p>186 rows × 10 columns</p>\n",
       "</div>"
      ],
      "text/plain": [
       "                 Date                     Event         Organizer   \n",
       "Date                                                                \n",
       "2014-12-02 2014-12-02  Latin Tuesdays with DDLL  Danza De La Liga  \\\n",
       "2014-12-16 2014-12-16  Latin Tuesdays with DDLL  Danza De La Liga   \n",
       "2014-12-30 2014-12-30  Latin Tuesdays with DDLL  Danza De La Liga   \n",
       "2015-01-13 2015-01-13  Latin Tuesdays with DDLL  Danza De La Liga   \n",
       "2015-03-15 2015-03-15   Sunday Night with Salsa          enMotion   \n",
       "...               ...                       ...               ...   \n",
       "2023-05-18 2023-05-18     Kolkata Salsa Weekend  Hitesh Salsawala   \n",
       "2023-05-19 2023-05-19     Kolkata Salsa Weekend  Hitesh Salsawala   \n",
       "2023-05-20 2023-05-20     Kolkata Salsa Weekend  Hitesh Salsawala   \n",
       "2023-05-21 2023-05-21     Kolkata Salsa Weekend  Hitesh Salsawala   \n",
       "2023-05-22 2023-05-22      KSW Survivor's Party  Hitesh Salsawala   \n",
       "\n",
       "                               Venue           Area EventType   \n",
       "Date                                                            \n",
       "2014-12-02                   Red Bar  Koregaon Park    Social  \\\n",
       "2014-12-16                   Red Bar  Koregaon Park    Social   \n",
       "2014-12-30                   Red Bar  Koregaon Park    Social   \n",
       "2015-01-13                   Red Bar  Koregaon Park    Social   \n",
       "2015-03-15  The Flying Saucer Skybar    Viman Nagar    Social   \n",
       "...                              ...            ...       ...   \n",
       "2023-05-18               Offbeat CCU        Kolkata  Congress   \n",
       "2023-05-19               Offbeat CCU        Kolkata  Congress   \n",
       "2023-05-20               Offbeat CCU        Kolkata  Congress   \n",
       "2023-05-21               Offbeat CCU        Kolkata  Congress   \n",
       "2023-05-22      Effingut Park Street        Kolkata    Social   \n",
       "\n",
       "                                    VenueFullName   latitude  longitude  SetNo  \n",
       "Date                                                                            \n",
       "2014-12-02                 Red Bar, Koregaon Park  18.540159  73.908260      1  \n",
       "2014-12-16                 Red Bar, Koregaon Park  18.540159  73.908260      2  \n",
       "2014-12-30                 Red Bar, Koregaon Park  18.540159  73.908260      3  \n",
       "2015-01-13                 Red Bar, Koregaon Park  18.540159  73.908260      4  \n",
       "2015-03-15  The Flying Saucer Skybar, Viman Nagar  18.568865  73.908304      5  \n",
       "...                                           ...        ...        ...    ...  \n",
       "2023-05-18                   Offbeat CCU, Kolkata  22.533211  88.395724    182  \n",
       "2023-05-19                   Offbeat CCU, Kolkata  22.533211  88.395724    183  \n",
       "2023-05-20                   Offbeat CCU, Kolkata  22.533211  88.395724    184  \n",
       "2023-05-21                   Offbeat CCU, Kolkata  22.533211  88.395724    185  \n",
       "2023-05-22          Effingut Park Street, Kolkata  22.550999  88.353911    186  \n",
       "\n",
       "[186 rows x 10 columns]"
      ]
     },
     "execution_count": 4,
     "metadata": {},
     "output_type": "execute_result"
    }
   ],
   "source": [
    "df"
   ]
  },
  {
   "cell_type": "code",
   "execution_count": 28,
   "metadata": {},
   "outputs": [
    {
     "data": {
      "text/html": [
       "<div>\n",
       "<style scoped>\n",
       "    .dataframe tbody tr th:only-of-type {\n",
       "        vertical-align: middle;\n",
       "    }\n",
       "\n",
       "    .dataframe tbody tr th {\n",
       "        vertical-align: top;\n",
       "    }\n",
       "\n",
       "    .dataframe thead th {\n",
       "        text-align: right;\n",
       "    }\n",
       "</style>\n",
       "<table border=\"1\" class=\"dataframe\">\n",
       "  <thead>\n",
       "    <tr style=\"text-align: right;\">\n",
       "      <th></th>\n",
       "      <th>Organizer</th>\n",
       "      <th>SetNo</th>\n",
       "    </tr>\n",
       "  </thead>\n",
       "  <tbody>\n",
       "    <tr>\n",
       "      <th>5</th>\n",
       "      <td>Furor Pune</td>\n",
       "      <td>48</td>\n",
       "    </tr>\n",
       "    <tr>\n",
       "      <th>24</th>\n",
       "      <td>Sovit Biswal</td>\n",
       "      <td>18</td>\n",
       "    </tr>\n",
       "    <tr>\n",
       "      <th>27</th>\n",
       "      <td>enMotion</td>\n",
       "      <td>14</td>\n",
       "    </tr>\n",
       "    <tr>\n",
       "      <th>1</th>\n",
       "      <td>Dance Design</td>\n",
       "      <td>14</td>\n",
       "    </tr>\n",
       "    <tr>\n",
       "      <th>17</th>\n",
       "      <td>Rocky Poonawala</td>\n",
       "      <td>10</td>\n",
       "    </tr>\n",
       "    <tr>\n",
       "      <th>10</th>\n",
       "      <td>LSF Org Team</td>\n",
       "      <td>9</td>\n",
       "    </tr>\n",
       "    <tr>\n",
       "      <th>6</th>\n",
       "      <td>Hitesh Salsawala</td>\n",
       "      <td>9</td>\n",
       "    </tr>\n",
       "    <tr>\n",
       "      <th>12</th>\n",
       "      <td>Latin Verve</td>\n",
       "      <td>9</td>\n",
       "    </tr>\n",
       "    <tr>\n",
       "      <th>26</th>\n",
       "      <td>Vivek Advani</td>\n",
       "      <td>7</td>\n",
       "    </tr>\n",
       "    <tr>\n",
       "      <th>14</th>\n",
       "      <td>Nakul Ghanekar</td>\n",
       "      <td>6</td>\n",
       "    </tr>\n",
       "    <tr>\n",
       "      <th>22</th>\n",
       "      <td>Shital Joshi</td>\n",
       "      <td>4</td>\n",
       "    </tr>\n",
       "    <tr>\n",
       "      <th>8</th>\n",
       "      <td>Kaytee Namgyal</td>\n",
       "      <td>4</td>\n",
       "    </tr>\n",
       "    <tr>\n",
       "      <th>2</th>\n",
       "      <td>Danza De La Liga</td>\n",
       "      <td>4</td>\n",
       "    </tr>\n",
       "    <tr>\n",
       "      <th>20</th>\n",
       "      <td>Sanket Mukadam</td>\n",
       "      <td>4</td>\n",
       "    </tr>\n",
       "    <tr>\n",
       "      <th>23</th>\n",
       "      <td>Snaden Shawn</td>\n",
       "      <td>4</td>\n",
       "    </tr>\n",
       "    <tr>\n",
       "      <th>0</th>\n",
       "      <td>DJ AV</td>\n",
       "      <td>3</td>\n",
       "    </tr>\n",
       "    <tr>\n",
       "      <th>13</th>\n",
       "      <td>Mitesh Dalvi</td>\n",
       "      <td>3</td>\n",
       "    </tr>\n",
       "    <tr>\n",
       "      <th>7</th>\n",
       "      <td>John Anthony</td>\n",
       "      <td>3</td>\n",
       "    </tr>\n",
       "    <tr>\n",
       "      <th>11</th>\n",
       "      <td>Latin Dreamers Dance Project</td>\n",
       "      <td>3</td>\n",
       "    </tr>\n",
       "    <tr>\n",
       "      <th>4</th>\n",
       "      <td>Furor Hyderabad</td>\n",
       "      <td>2</td>\n",
       "    </tr>\n",
       "    <tr>\n",
       "      <th>25</th>\n",
       "      <td>Vineet Bangera</td>\n",
       "      <td>1</td>\n",
       "    </tr>\n",
       "    <tr>\n",
       "      <th>3</th>\n",
       "      <td>Furor Bangalore</td>\n",
       "      <td>1</td>\n",
       "    </tr>\n",
       "    <tr>\n",
       "      <th>9</th>\n",
       "      <td>Komal &amp; Anuj</td>\n",
       "      <td>1</td>\n",
       "    </tr>\n",
       "    <tr>\n",
       "      <th>21</th>\n",
       "      <td>Saumya Joshi</td>\n",
       "      <td>1</td>\n",
       "    </tr>\n",
       "    <tr>\n",
       "      <th>18</th>\n",
       "      <td>Salsa Madras</td>\n",
       "      <td>1</td>\n",
       "    </tr>\n",
       "    <tr>\n",
       "      <th>16</th>\n",
       "      <td>Raunak Khemuka</td>\n",
       "      <td>1</td>\n",
       "    </tr>\n",
       "    <tr>\n",
       "      <th>15</th>\n",
       "      <td>Paul</td>\n",
       "      <td>1</td>\n",
       "    </tr>\n",
       "    <tr>\n",
       "      <th>19</th>\n",
       "      <td>SalsaMania India</td>\n",
       "      <td>1</td>\n",
       "    </tr>\n",
       "  </tbody>\n",
       "</table>\n",
       "</div>"
      ],
      "text/plain": [
       "                       Organizer  SetNo\n",
       "5                     Furor Pune     48\n",
       "24                  Sovit Biswal     18\n",
       "27                      enMotion     14\n",
       "1                   Dance Design     14\n",
       "17               Rocky Poonawala     10\n",
       "10                  LSF Org Team      9\n",
       "6               Hitesh Salsawala      9\n",
       "12                   Latin Verve      9\n",
       "26                  Vivek Advani      7\n",
       "14                Nakul Ghanekar      6\n",
       "22                  Shital Joshi      4\n",
       "8                 Kaytee Namgyal      4\n",
       "2               Danza De La Liga      4\n",
       "20                Sanket Mukadam      4\n",
       "23                  Snaden Shawn      4\n",
       "0                          DJ AV      3\n",
       "13                  Mitesh Dalvi      3\n",
       "7                   John Anthony      3\n",
       "11  Latin Dreamers Dance Project      3\n",
       "4                Furor Hyderabad      2\n",
       "25                Vineet Bangera      1\n",
       "3                Furor Bangalore      1\n",
       "9                   Komal & Anuj      1\n",
       "21                  Saumya Joshi      1\n",
       "18                  Salsa Madras      1\n",
       "16                Raunak Khemuka      1\n",
       "15                          Paul      1\n",
       "19              SalsaMania India      1"
      ]
     },
     "execution_count": 28,
     "metadata": {},
     "output_type": "execute_result"
    }
   ],
   "source": [
    "df.groupby([\"Organizer\"]).SetNo.count().reset_index(drop=False).sort_values(\n",
    "    by=\"SetNo\", ascending=False\n",
    ")"
   ]
  },
  {
   "cell_type": "code",
   "execution_count": 24,
   "metadata": {},
   "outputs": [
    {
     "data": {
      "text/html": [
       "<div>\n",
       "<style scoped>\n",
       "    .dataframe tbody tr th:only-of-type {\n",
       "        vertical-align: middle;\n",
       "    }\n",
       "\n",
       "    .dataframe tbody tr th {\n",
       "        vertical-align: top;\n",
       "    }\n",
       "\n",
       "    .dataframe thead th {\n",
       "        text-align: right;\n",
       "    }\n",
       "</style>\n",
       "<table border=\"1\" class=\"dataframe\">\n",
       "  <thead>\n",
       "    <tr style=\"text-align: right;\">\n",
       "      <th></th>\n",
       "      <th>YearMonth</th>\n",
       "      <th>EventType</th>\n",
       "      <th>SetsCount</th>\n",
       "    </tr>\n",
       "  </thead>\n",
       "  <tbody>\n",
       "    <tr>\n",
       "      <th>0</th>\n",
       "      <td>2014-12</td>\n",
       "      <td>Social</td>\n",
       "      <td>3</td>\n",
       "    </tr>\n",
       "    <tr>\n",
       "      <th>1</th>\n",
       "      <td>2015-01</td>\n",
       "      <td>Social</td>\n",
       "      <td>1</td>\n",
       "    </tr>\n",
       "    <tr>\n",
       "      <th>2</th>\n",
       "      <td>2015-03</td>\n",
       "      <td>Social</td>\n",
       "      <td>2</td>\n",
       "    </tr>\n",
       "    <tr>\n",
       "      <th>3</th>\n",
       "      <td>2015-05</td>\n",
       "      <td>Social</td>\n",
       "      <td>1</td>\n",
       "    </tr>\n",
       "    <tr>\n",
       "      <th>4</th>\n",
       "      <td>2015-05</td>\n",
       "      <td>Weekender</td>\n",
       "      <td>1</td>\n",
       "    </tr>\n",
       "    <tr>\n",
       "      <th>...</th>\n",
       "      <td>...</td>\n",
       "      <td>...</td>\n",
       "      <td>...</td>\n",
       "    </tr>\n",
       "    <tr>\n",
       "      <th>72</th>\n",
       "      <td>2022-03</td>\n",
       "      <td>Social</td>\n",
       "      <td>1</td>\n",
       "    </tr>\n",
       "    <tr>\n",
       "      <th>73</th>\n",
       "      <td>2022-04</td>\n",
       "      <td>Congress</td>\n",
       "      <td>4</td>\n",
       "    </tr>\n",
       "    <tr>\n",
       "      <th>74</th>\n",
       "      <td>2023-04</td>\n",
       "      <td>Social</td>\n",
       "      <td>3</td>\n",
       "    </tr>\n",
       "    <tr>\n",
       "      <th>75</th>\n",
       "      <td>2023-05</td>\n",
       "      <td>Congress</td>\n",
       "      <td>4</td>\n",
       "    </tr>\n",
       "    <tr>\n",
       "      <th>76</th>\n",
       "      <td>2023-05</td>\n",
       "      <td>Social</td>\n",
       "      <td>2</td>\n",
       "    </tr>\n",
       "  </tbody>\n",
       "</table>\n",
       "<p>77 rows × 3 columns</p>\n",
       "</div>"
      ],
      "text/plain": [
       "   YearMonth  EventType  SetsCount\n",
       "0    2014-12     Social          3\n",
       "1    2015-01     Social          1\n",
       "2    2015-03     Social          2\n",
       "3    2015-05     Social          1\n",
       "4    2015-05  Weekender          1\n",
       "..       ...        ...        ...\n",
       "72   2022-03     Social          1\n",
       "73   2022-04   Congress          4\n",
       "74   2023-04     Social          3\n",
       "75   2023-05   Congress          4\n",
       "76   2023-05     Social          2\n",
       "\n",
       "[77 rows x 3 columns]"
      ]
     },
     "execution_count": 24,
     "metadata": {},
     "output_type": "execute_result"
    }
   ],
   "source": [
    "dff = (\n",
    "    df.assign(\n",
    "        YearMonth=lambda x: x.index.strftime(\"%Y-%m\"),\n",
    "        # MonthYear=lambda x: x.index.strftime(\"%m-%Y\"),\n",
    "    )\n",
    "    .groupby([\"YearMonth\", \"EventType\"])\n",
    "    .SetNo.count()\n",
    "    .reset_index(drop=False)\n",
    "    .rename(columns={\"SetNo\": \"SetsCount\"})\n",
    ")\n",
    "dff"
   ]
  },
  {
   "cell_type": "code",
   "execution_count": 20,
   "metadata": {},
   "outputs": [
    {
     "data": {
      "application/vnd.plotly.v1+json": {
       "config": {
        "plotlyServerURL": "https://plot.ly"
       },
       "data": [
        {
         "alignmentgroup": "True",
         "hovertemplate": "EventType=Social<br>YearMonth=%{x}<br>SetNo=%{y}<extra></extra>",
         "legendgroup": "Social",
         "marker": {
          "color": "#000001",
          "pattern": {
           "shape": ""
          }
         },
         "name": "Social",
         "offsetgroup": "Social",
         "orientation": "v",
         "showlegend": true,
         "textposition": "auto",
         "type": "bar",
         "x": [
          "2014-12",
          "2015-01",
          "2015-03",
          "2015-05",
          "2015-07",
          "2015-08",
          "2015-10",
          "2015-11",
          "2015-12",
          "2016-01",
          "2016-02",
          "2016-03",
          "2016-04",
          "2016-05",
          "2016-06",
          "2016-07",
          "2016-08",
          "2016-09",
          "2016-10",
          "2016-11",
          "2016-12",
          "2017-01",
          "2017-02",
          "2017-03",
          "2017-04",
          "2017-05",
          "2017-07",
          "2017-09",
          "2017-11",
          "2017-12",
          "2018-01",
          "2018-02",
          "2018-03",
          "2018-04",
          "2018-05",
          "2018-06",
          "2018-07",
          "2018-08",
          "2018-09",
          "2018-12",
          "2019-02",
          "2019-03",
          "2019-04",
          "2019-05",
          "2019-08",
          "2019-09",
          "2019-10",
          "2019-11",
          "2021-10",
          "2021-11",
          "2022-01",
          "2022-02",
          "2022-03",
          "2023-04",
          "2023-05"
         ],
         "xaxis": "x",
         "y": [
          3,
          1,
          2,
          1,
          4,
          4,
          4,
          2,
          1,
          5,
          2,
          3,
          1,
          1,
          4,
          5,
          1,
          9,
          6,
          6,
          3,
          1,
          2,
          3,
          4,
          3,
          1,
          1,
          3,
          1,
          1,
          1,
          1,
          3,
          4,
          1,
          3,
          1,
          3,
          1,
          1,
          1,
          2,
          2,
          1,
          2,
          1,
          2,
          1,
          1,
          1,
          2,
          1,
          3,
          2
         ],
         "yaxis": "y"
        },
        {
         "alignmentgroup": "True",
         "hovertemplate": "EventType=Weekender<br>YearMonth=%{x}<br>SetNo=%{y}<extra></extra>",
         "legendgroup": "Weekender",
         "marker": {
          "color": "#000002",
          "pattern": {
           "shape": ""
          }
         },
         "name": "Weekender",
         "offsetgroup": "Weekender",
         "orientation": "v",
         "showlegend": true,
         "textposition": "auto",
         "type": "bar",
         "x": [
          "2015-05",
          "2015-10",
          "2015-11",
          "2015-12",
          "2016-05",
          "2016-08",
          "2017-01",
          "2017-05",
          "2018-06",
          "2018-07",
          "2019-03",
          "2019-07"
         ],
         "xaxis": "x",
         "y": [
          1,
          2,
          3,
          2,
          2,
          1,
          2,
          2,
          2,
          3,
          1,
          3
         ],
         "yaxis": "y"
        },
        {
         "alignmentgroup": "True",
         "hovertemplate": "EventType=Congress<br>YearMonth=%{x}<br>SetNo=%{y}<extra></extra>",
         "legendgroup": "Congress",
         "marker": {
          "color": "#000003",
          "pattern": {
           "shape": ""
          }
         },
         "name": "Congress",
         "offsetgroup": "Congress",
         "orientation": "v",
         "showlegend": true,
         "textposition": "auto",
         "type": "bar",
         "x": [
          "2015-12",
          "2016-06",
          "2016-10",
          "2016-12",
          "2017-09",
          "2018-01",
          "2019-04",
          "2019-10",
          "2022-04",
          "2023-05"
         ],
         "xaxis": "x",
         "y": [
          2,
          1,
          6,
          5,
          2,
          4,
          3,
          2,
          4,
          4
         ],
         "yaxis": "y"
        }
       ],
       "layout": {
        "barmode": "group",
        "legend": {
         "title": {
          "text": "EventType"
         },
         "tracegroupgap": 0
        },
        "margin": {
         "t": 60
        },
        "template": {
         "data": {
          "candlestick": [
           {
            "decreasing": {
             "line": {
              "color": "#000033"
             }
            },
            "increasing": {
             "line": {
              "color": "#000032"
             }
            },
            "type": "candlestick"
           }
          ],
          "contour": [
           {
            "colorscale": [
             [
              0,
              "#000011"
             ],
             [
              0.1111111111111111,
              "#000012"
             ],
             [
              0.2222222222222222,
              "#000013"
             ],
             [
              0.3333333333333333,
              "#000014"
             ],
             [
              0.4444444444444444,
              "#000015"
             ],
             [
              0.5555555555555556,
              "#000016"
             ],
             [
              0.6666666666666666,
              "#000017"
             ],
             [
              0.7777777777777778,
              "#000018"
             ],
             [
              0.8888888888888888,
              "#000019"
             ],
             [
              1,
              "#000020"
             ]
            ],
            "type": "contour"
           }
          ],
          "contourcarpet": [
           {
            "colorscale": [
             [
              0,
              "#000011"
             ],
             [
              0.1111111111111111,
              "#000012"
             ],
             [
              0.2222222222222222,
              "#000013"
             ],
             [
              0.3333333333333333,
              "#000014"
             ],
             [
              0.4444444444444444,
              "#000015"
             ],
             [
              0.5555555555555556,
              "#000016"
             ],
             [
              0.6666666666666666,
              "#000017"
             ],
             [
              0.7777777777777778,
              "#000018"
             ],
             [
              0.8888888888888888,
              "#000019"
             ],
             [
              1,
              "#000020"
             ]
            ],
            "type": "contourcarpet"
           }
          ],
          "heatmap": [
           {
            "colorscale": [
             [
              0,
              "#000011"
             ],
             [
              0.1111111111111111,
              "#000012"
             ],
             [
              0.2222222222222222,
              "#000013"
             ],
             [
              0.3333333333333333,
              "#000014"
             ],
             [
              0.4444444444444444,
              "#000015"
             ],
             [
              0.5555555555555556,
              "#000016"
             ],
             [
              0.6666666666666666,
              "#000017"
             ],
             [
              0.7777777777777778,
              "#000018"
             ],
             [
              0.8888888888888888,
              "#000019"
             ],
             [
              1,
              "#000020"
             ]
            ],
            "type": "heatmap"
           }
          ],
          "histogram2d": [
           {
            "colorscale": [
             [
              0,
              "#000011"
             ],
             [
              0.1111111111111111,
              "#000012"
             ],
             [
              0.2222222222222222,
              "#000013"
             ],
             [
              0.3333333333333333,
              "#000014"
             ],
             [
              0.4444444444444444,
              "#000015"
             ],
             [
              0.5555555555555556,
              "#000016"
             ],
             [
              0.6666666666666666,
              "#000017"
             ],
             [
              0.7777777777777778,
              "#000018"
             ],
             [
              0.8888888888888888,
              "#000019"
             ],
             [
              1,
              "#000020"
             ]
            ],
            "type": "histogram2d"
           }
          ],
          "icicle": [
           {
            "textfont": {
             "color": "white"
            },
            "type": "icicle"
           }
          ],
          "sankey": [
           {
            "textfont": {
             "color": "#000036"
            },
            "type": "sankey"
           }
          ],
          "scatter": [
           {
            "marker": {
             "line": {
              "width": 0
             }
            },
            "type": "scatter"
           }
          ],
          "table": [
           {
            "cells": {
             "fill": {
              "color": "#000038"
             },
             "font": {
              "color": "#000037"
             },
             "line": {
              "color": "#000039"
             }
            },
            "header": {
             "fill": {
              "color": "#000040"
             },
             "font": {
              "color": "#000036"
             },
             "line": {
              "color": "#000039"
             }
            },
            "type": "table"
           }
          ],
          "waterfall": [
           {
            "connector": {
             "line": {
              "color": "#000036",
              "width": 2
             }
            },
            "decreasing": {
             "marker": {
              "color": "#000033"
             }
            },
            "increasing": {
             "marker": {
              "color": "#000032"
             }
            },
            "totals": {
             "marker": {
              "color": "#000034"
             }
            },
            "type": "waterfall"
           }
          ]
         },
         "layout": {
          "coloraxis": {
           "colorscale": [
            [
             0,
             "#000011"
            ],
            [
             0.1111111111111111,
             "#000012"
            ],
            [
             0.2222222222222222,
             "#000013"
            ],
            [
             0.3333333333333333,
             "#000014"
            ],
            [
             0.4444444444444444,
             "#000015"
            ],
            [
             0.5555555555555556,
             "#000016"
            ],
            [
             0.6666666666666666,
             "#000017"
            ],
            [
             0.7777777777777778,
             "#000018"
            ],
            [
             0.8888888888888888,
             "#000019"
            ],
            [
             1,
             "#000020"
            ]
           ]
          },
          "colorscale": {
           "diverging": [
            [
             0,
             "#000021"
            ],
            [
             0.1,
             "#000022"
            ],
            [
             0.2,
             "#000023"
            ],
            [
             0.3,
             "#000024"
            ],
            [
             0.4,
             "#000025"
            ],
            [
             0.5,
             "#000026"
            ],
            [
             0.6,
             "#000027"
            ],
            [
             0.7,
             "#000028"
            ],
            [
             0.8,
             "#000029"
            ],
            [
             0.9,
             "#000030"
            ],
            [
             1,
             "#000031"
            ]
           ],
           "sequential": [
            [
             0,
             "#000011"
            ],
            [
             0.1111111111111111,
             "#000012"
            ],
            [
             0.2222222222222222,
             "#000013"
            ],
            [
             0.3333333333333333,
             "#000014"
            ],
            [
             0.4444444444444444,
             "#000015"
            ],
            [
             0.5555555555555556,
             "#000016"
            ],
            [
             0.6666666666666666,
             "#000017"
            ],
            [
             0.7777777777777778,
             "#000018"
            ],
            [
             0.8888888888888888,
             "#000019"
            ],
            [
             1,
             "#000020"
            ]
           ],
           "sequentialminus": [
            [
             0,
             "#000011"
            ],
            [
             0.1111111111111111,
             "#000012"
            ],
            [
             0.2222222222222222,
             "#000013"
            ],
            [
             0.3333333333333333,
             "#000014"
            ],
            [
             0.4444444444444444,
             "#000015"
            ],
            [
             0.5555555555555556,
             "#000016"
            ],
            [
             0.6666666666666666,
             "#000017"
            ],
            [
             0.7777777777777778,
             "#000018"
            ],
            [
             0.8888888888888888,
             "#000019"
            ],
            [
             1,
             "#000020"
            ]
           ]
          },
          "colorway": [
           "#000001",
           "#000002",
           "#000003",
           "#000004",
           "#000005",
           "#000006",
           "#000007",
           "#000008",
           "#000009",
           "#000010"
          ]
         }
        },
        "xaxis": {
         "anchor": "y",
         "domain": [
          0,
          1
         ],
         "title": {
          "text": "YearMonth"
         }
        },
        "yaxis": {
         "anchor": "x",
         "domain": [
          0,
          1
         ],
         "title": {
          "text": "SetNo"
         }
        }
       }
      }
     },
     "metadata": {},
     "output_type": "display_data"
    }
   ],
   "source": [
    "fig = px.bar(dff, x=\"YearMonth\", y=\"SetNo\", color=\"EventType\", barmode=\"group\")\n",
    "fig.show()"
   ]
  },
  {
   "cell_type": "code",
   "execution_count": null,
   "metadata": {},
   "outputs": [],
   "source": [
    "dff = (\n",
    "    df.resample(\"M\")\n",
    "    .SetNo.count()\n",
    "    .reset_index(drop=False)\n",
    "    .assign(MonthYear=lambda x: x.Date.dt.strftime(\"%b %Y\"))\n",
    "    .drop(columns=[\"Date\"])\n",
    "    .rename(columns={\"SetNo\": \"Sets Count\"})\n",
    "    # .plot.bar(x=\"MonthYear\", y=\"Sets Count\")\n",
    ")"
   ]
  },
  {
   "cell_type": "code",
   "execution_count": null,
   "metadata": {},
   "outputs": [],
   "source": [
    "fig = px.bar(dff, x=\"MonthYear\", y=\"Sets Count\")\n",
    "# st.plotly_chart(fig, use_container_width=True)\n",
    "fig.show()"
   ]
  }
 ],
 "metadata": {
  "kernelspec": {
   "display_name": "streamlit_py39",
   "language": "python",
   "name": "python3"
  },
  "language_info": {
   "codemirror_mode": {
    "name": "ipython",
    "version": 3
   },
   "file_extension": ".py",
   "mimetype": "text/x-python",
   "name": "python",
   "nbconvert_exporter": "python",
   "pygments_lexer": "ipython3",
   "version": "3.9.16"
  },
  "orig_nbformat": 4
 },
 "nbformat": 4,
 "nbformat_minor": 2
}
