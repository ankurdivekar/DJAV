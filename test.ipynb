{
 "cells": [
  {
   "cell_type": "code",
   "execution_count": 1,
   "metadata": {},
   "outputs": [],
   "source": [
    "import pandas as pd\n",
    "import plotly.express as px\n",
    "import streamlit as st\n",
    "from gsheetsdb import connect\n",
    "from google.oauth2 import service_account"
   ]
  },
  {
   "cell_type": "code",
   "execution_count": 2,
   "metadata": {},
   "outputs": [],
   "source": [
    "# Create a connection object.\n",
    "credentials = service_account.Credentials.from_service_account_info(\n",
    "    st.secrets[\"gcp_service_account\"],\n",
    "    scopes=[\n",
    "        \"https://www.googleapis.com/auth/spreadsheets\",\n",
    "    ],\n",
    ")"
   ]
  },
  {
   "cell_type": "code",
   "execution_count": 3,
   "metadata": {},
   "outputs": [],
   "source": [
    "with connect(credentials=credentials) as conn:\n",
    "    sheet_url = st.secrets[\"geolocations_url\"]\n",
    "    df_geoloc = conn.execute(f'SELECT * FROM \"{sheet_url}\"', headers=1).fetchall()\n",
    "    df_geoloc = pd.DataFrame.from_dict(data=df_geoloc)\n",
    "\n",
    "    sheet_url = st.secrets[\"sets_url\"]\n",
    "    df_sets = conn.execute(f'SELECT * FROM \"{sheet_url}\"', headers=1).fetchall()\n",
    "    df_sets = pd.DataFrame.from_dict(data=df_sets)\n",
    "\n",
    "    df = df_sets.merge(df_geoloc, on=[\"Venue\", \"Area\"], how=\"left\")\n",
    "\n",
    "    df[\"latitude\"] = pd.to_numeric(df.Latitude, errors=\"coerce\")\n",
    "    df[\"longitude\"] = pd.to_numeric(df.Longitude, errors=\"coerce\")\n",
    "    df = df.drop(columns=[\"Comments\", \"Payments\", \"Latitude\", \"Longitude\"])\n",
    "    df.Date = pd.to_datetime(\n",
    "        df.Date,\n",
    "        format=\"%Y-%m-%d\",\n",
    "        errors=\"coerce\",\n",
    "    )\n",
    "    df = df.sort_values(by=\"Date\").reset_index(drop=True)\n",
    "    df[\"SetNo\"] = df.index + 1\n",
    "    # df = df.set_index(\"SetNo\")\n",
    "    df.index = df.Date\n",
    "\n",
    "    for col in [\n",
    "        \"Event\",\n",
    "        \"Organizer\",\n",
    "        # \"EventType\",\n",
    "        \"VenueFullName\",\n",
    "    ]:\n",
    "        df[col] = df[col].astype(\"category\")"
   ]
  },
  {
   "cell_type": "code",
   "execution_count": 4,
   "metadata": {},
   "outputs": [
    {
     "data": {
      "text/html": [
       "<div>\n",
       "<style scoped>\n",
       "    .dataframe tbody tr th:only-of-type {\n",
       "        vertical-align: middle;\n",
       "    }\n",
       "\n",
       "    .dataframe tbody tr th {\n",
       "        vertical-align: top;\n",
       "    }\n",
       "\n",
       "    .dataframe thead th {\n",
       "        text-align: right;\n",
       "    }\n",
       "</style>\n",
       "<table border=\"1\" class=\"dataframe\">\n",
       "  <thead>\n",
       "    <tr style=\"text-align: right;\">\n",
       "      <th></th>\n",
       "      <th>Date</th>\n",
       "      <th>Event</th>\n",
       "      <th>Organizer</th>\n",
       "      <th>Venue</th>\n",
       "      <th>Area</th>\n",
       "      <th>EventType</th>\n",
       "      <th>VenueFullName</th>\n",
       "      <th>latitude</th>\n",
       "      <th>longitude</th>\n",
       "      <th>SetNo</th>\n",
       "    </tr>\n",
       "    <tr>\n",
       "      <th>Date</th>\n",
       "      <th></th>\n",
       "      <th></th>\n",
       "      <th></th>\n",
       "      <th></th>\n",
       "      <th></th>\n",
       "      <th></th>\n",
       "      <th></th>\n",
       "      <th></th>\n",
       "      <th></th>\n",
       "      <th></th>\n",
       "    </tr>\n",
       "  </thead>\n",
       "  <tbody>\n",
       "    <tr>\n",
       "      <th>2014-12-02</th>\n",
       "      <td>2014-12-02</td>\n",
       "      <td>Latin Tuesdays with DDLL</td>\n",
       "      <td>Danza De La Liga</td>\n",
       "      <td>Red Bar</td>\n",
       "      <td>Koregaon Park</td>\n",
       "      <td>Social</td>\n",
       "      <td>Red Bar, Koregaon Park</td>\n",
       "      <td>18.540159</td>\n",
       "      <td>73.908260</td>\n",
       "      <td>1</td>\n",
       "    </tr>\n",
       "    <tr>\n",
       "      <th>2014-12-16</th>\n",
       "      <td>2014-12-16</td>\n",
       "      <td>Latin Tuesdays with DDLL</td>\n",
       "      <td>Danza De La Liga</td>\n",
       "      <td>Red Bar</td>\n",
       "      <td>Koregaon Park</td>\n",
       "      <td>Social</td>\n",
       "      <td>Red Bar, Koregaon Park</td>\n",
       "      <td>18.540159</td>\n",
       "      <td>73.908260</td>\n",
       "      <td>2</td>\n",
       "    </tr>\n",
       "    <tr>\n",
       "      <th>2014-12-30</th>\n",
       "      <td>2014-12-30</td>\n",
       "      <td>Latin Tuesdays with DDLL</td>\n",
       "      <td>Danza De La Liga</td>\n",
       "      <td>Red Bar</td>\n",
       "      <td>Koregaon Park</td>\n",
       "      <td>Social</td>\n",
       "      <td>Red Bar, Koregaon Park</td>\n",
       "      <td>18.540159</td>\n",
       "      <td>73.908260</td>\n",
       "      <td>3</td>\n",
       "    </tr>\n",
       "    <tr>\n",
       "      <th>2015-01-13</th>\n",
       "      <td>2015-01-13</td>\n",
       "      <td>Latin Tuesdays with DDLL</td>\n",
       "      <td>Danza De La Liga</td>\n",
       "      <td>Red Bar</td>\n",
       "      <td>Koregaon Park</td>\n",
       "      <td>Social</td>\n",
       "      <td>Red Bar, Koregaon Park</td>\n",
       "      <td>18.540159</td>\n",
       "      <td>73.908260</td>\n",
       "      <td>4</td>\n",
       "    </tr>\n",
       "    <tr>\n",
       "      <th>2015-03-15</th>\n",
       "      <td>2015-03-15</td>\n",
       "      <td>Sunday Night with Salsa</td>\n",
       "      <td>enMotion</td>\n",
       "      <td>The Flying Saucer Skybar</td>\n",
       "      <td>Viman Nagar</td>\n",
       "      <td>Social</td>\n",
       "      <td>The Flying Saucer Skybar, Viman Nagar</td>\n",
       "      <td>18.568865</td>\n",
       "      <td>73.908304</td>\n",
       "      <td>5</td>\n",
       "    </tr>\n",
       "    <tr>\n",
       "      <th>...</th>\n",
       "      <td>...</td>\n",
       "      <td>...</td>\n",
       "      <td>...</td>\n",
       "      <td>...</td>\n",
       "      <td>...</td>\n",
       "      <td>...</td>\n",
       "      <td>...</td>\n",
       "      <td>...</td>\n",
       "      <td>...</td>\n",
       "      <td>...</td>\n",
       "    </tr>\n",
       "    <tr>\n",
       "      <th>2023-05-18</th>\n",
       "      <td>2023-05-18</td>\n",
       "      <td>Kolkata Salsa Weekend</td>\n",
       "      <td>Hitesh Salsawala</td>\n",
       "      <td>Offbeat CCU</td>\n",
       "      <td>Kolkata</td>\n",
       "      <td>Congress</td>\n",
       "      <td>Offbeat CCU, Kolkata</td>\n",
       "      <td>22.533211</td>\n",
       "      <td>88.395724</td>\n",
       "      <td>182</td>\n",
       "    </tr>\n",
       "    <tr>\n",
       "      <th>2023-05-19</th>\n",
       "      <td>2023-05-19</td>\n",
       "      <td>Kolkata Salsa Weekend</td>\n",
       "      <td>Hitesh Salsawala</td>\n",
       "      <td>Offbeat CCU</td>\n",
       "      <td>Kolkata</td>\n",
       "      <td>Congress</td>\n",
       "      <td>Offbeat CCU, Kolkata</td>\n",
       "      <td>22.533211</td>\n",
       "      <td>88.395724</td>\n",
       "      <td>183</td>\n",
       "    </tr>\n",
       "    <tr>\n",
       "      <th>2023-05-20</th>\n",
       "      <td>2023-05-20</td>\n",
       "      <td>Kolkata Salsa Weekend</td>\n",
       "      <td>Hitesh Salsawala</td>\n",
       "      <td>Offbeat CCU</td>\n",
       "      <td>Kolkata</td>\n",
       "      <td>Congress</td>\n",
       "      <td>Offbeat CCU, Kolkata</td>\n",
       "      <td>22.533211</td>\n",
       "      <td>88.395724</td>\n",
       "      <td>184</td>\n",
       "    </tr>\n",
       "    <tr>\n",
       "      <th>2023-05-21</th>\n",
       "      <td>2023-05-21</td>\n",
       "      <td>Kolkata Salsa Weekend</td>\n",
       "      <td>Hitesh Salsawala</td>\n",
       "      <td>Offbeat CCU</td>\n",
       "      <td>Kolkata</td>\n",
       "      <td>Congress</td>\n",
       "      <td>Offbeat CCU, Kolkata</td>\n",
       "      <td>22.533211</td>\n",
       "      <td>88.395724</td>\n",
       "      <td>185</td>\n",
       "    </tr>\n",
       "    <tr>\n",
       "      <th>2023-05-22</th>\n",
       "      <td>2023-05-22</td>\n",
       "      <td>KSW Survivor's Party</td>\n",
       "      <td>Hitesh Salsawala</td>\n",
       "      <td>Effingut Park Street</td>\n",
       "      <td>Kolkata</td>\n",
       "      <td>Social</td>\n",
       "      <td>Effingut Park Street, Kolkata</td>\n",
       "      <td>22.550999</td>\n",
       "      <td>88.353911</td>\n",
       "      <td>186</td>\n",
       "    </tr>\n",
       "  </tbody>\n",
       "</table>\n",
       "<p>186 rows × 10 columns</p>\n",
       "</div>"
      ],
      "text/plain": [
       "                 Date                     Event         Organizer   \n",
       "Date                                                                \n",
       "2014-12-02 2014-12-02  Latin Tuesdays with DDLL  Danza De La Liga  \\\n",
       "2014-12-16 2014-12-16  Latin Tuesdays with DDLL  Danza De La Liga   \n",
       "2014-12-30 2014-12-30  Latin Tuesdays with DDLL  Danza De La Liga   \n",
       "2015-01-13 2015-01-13  Latin Tuesdays with DDLL  Danza De La Liga   \n",
       "2015-03-15 2015-03-15   Sunday Night with Salsa          enMotion   \n",
       "...               ...                       ...               ...   \n",
       "2023-05-18 2023-05-18     Kolkata Salsa Weekend  Hitesh Salsawala   \n",
       "2023-05-19 2023-05-19     Kolkata Salsa Weekend  Hitesh Salsawala   \n",
       "2023-05-20 2023-05-20     Kolkata Salsa Weekend  Hitesh Salsawala   \n",
       "2023-05-21 2023-05-21     Kolkata Salsa Weekend  Hitesh Salsawala   \n",
       "2023-05-22 2023-05-22      KSW Survivor's Party  Hitesh Salsawala   \n",
       "\n",
       "                               Venue           Area EventType   \n",
       "Date                                                            \n",
       "2014-12-02                   Red Bar  Koregaon Park    Social  \\\n",
       "2014-12-16                   Red Bar  Koregaon Park    Social   \n",
       "2014-12-30                   Red Bar  Koregaon Park    Social   \n",
       "2015-01-13                   Red Bar  Koregaon Park    Social   \n",
       "2015-03-15  The Flying Saucer Skybar    Viman Nagar    Social   \n",
       "...                              ...            ...       ...   \n",
       "2023-05-18               Offbeat CCU        Kolkata  Congress   \n",
       "2023-05-19               Offbeat CCU        Kolkata  Congress   \n",
       "2023-05-20               Offbeat CCU        Kolkata  Congress   \n",
       "2023-05-21               Offbeat CCU        Kolkata  Congress   \n",
       "2023-05-22      Effingut Park Street        Kolkata    Social   \n",
       "\n",
       "                                    VenueFullName   latitude  longitude  SetNo  \n",
       "Date                                                                            \n",
       "2014-12-02                 Red Bar, Koregaon Park  18.540159  73.908260      1  \n",
       "2014-12-16                 Red Bar, Koregaon Park  18.540159  73.908260      2  \n",
       "2014-12-30                 Red Bar, Koregaon Park  18.540159  73.908260      3  \n",
       "2015-01-13                 Red Bar, Koregaon Park  18.540159  73.908260      4  \n",
       "2015-03-15  The Flying Saucer Skybar, Viman Nagar  18.568865  73.908304      5  \n",
       "...                                           ...        ...        ...    ...  \n",
       "2023-05-18                   Offbeat CCU, Kolkata  22.533211  88.395724    182  \n",
       "2023-05-19                   Offbeat CCU, Kolkata  22.533211  88.395724    183  \n",
       "2023-05-20                   Offbeat CCU, Kolkata  22.533211  88.395724    184  \n",
       "2023-05-21                   Offbeat CCU, Kolkata  22.533211  88.395724    185  \n",
       "2023-05-22          Effingut Park Street, Kolkata  22.550999  88.353911    186  \n",
       "\n",
       "[186 rows x 10 columns]"
      ]
     },
     "execution_count": 4,
     "metadata": {},
     "output_type": "execute_result"
    }
   ],
   "source": [
    "df"
   ]
  },
  {
   "cell_type": "code",
   "execution_count": 16,
   "metadata": {},
   "outputs": [
    {
     "data": {
      "text/html": [
       "<div>\n",
       "<style scoped>\n",
       "    .dataframe tbody tr th:only-of-type {\n",
       "        vertical-align: middle;\n",
       "    }\n",
       "\n",
       "    .dataframe tbody tr th {\n",
       "        vertical-align: top;\n",
       "    }\n",
       "\n",
       "    .dataframe thead th {\n",
       "        text-align: right;\n",
       "    }\n",
       "</style>\n",
       "<table border=\"1\" class=\"dataframe\">\n",
       "  <thead>\n",
       "    <tr style=\"text-align: right;\">\n",
       "      <th></th>\n",
       "      <th>YearMonth</th>\n",
       "      <th>EventType</th>\n",
       "      <th>SetNo</th>\n",
       "    </tr>\n",
       "  </thead>\n",
       "  <tbody>\n",
       "    <tr>\n",
       "      <th>0</th>\n",
       "      <td>2014-12</td>\n",
       "      <td>Social</td>\n",
       "      <td>3</td>\n",
       "    </tr>\n",
       "    <tr>\n",
       "      <th>1</th>\n",
       "      <td>2015-01</td>\n",
       "      <td>Social</td>\n",
       "      <td>1</td>\n",
       "    </tr>\n",
       "    <tr>\n",
       "      <th>2</th>\n",
       "      <td>2015-03</td>\n",
       "      <td>Social</td>\n",
       "      <td>2</td>\n",
       "    </tr>\n",
       "    <tr>\n",
       "      <th>3</th>\n",
       "      <td>2015-05</td>\n",
       "      <td>Social</td>\n",
       "      <td>1</td>\n",
       "    </tr>\n",
       "    <tr>\n",
       "      <th>4</th>\n",
       "      <td>2015-05</td>\n",
       "      <td>Weekender</td>\n",
       "      <td>1</td>\n",
       "    </tr>\n",
       "    <tr>\n",
       "      <th>...</th>\n",
       "      <td>...</td>\n",
       "      <td>...</td>\n",
       "      <td>...</td>\n",
       "    </tr>\n",
       "    <tr>\n",
       "      <th>72</th>\n",
       "      <td>2022-03</td>\n",
       "      <td>Social</td>\n",
       "      <td>1</td>\n",
       "    </tr>\n",
       "    <tr>\n",
       "      <th>73</th>\n",
       "      <td>2022-04</td>\n",
       "      <td>Congress</td>\n",
       "      <td>4</td>\n",
       "    </tr>\n",
       "    <tr>\n",
       "      <th>74</th>\n",
       "      <td>2023-04</td>\n",
       "      <td>Social</td>\n",
       "      <td>3</td>\n",
       "    </tr>\n",
       "    <tr>\n",
       "      <th>75</th>\n",
       "      <td>2023-05</td>\n",
       "      <td>Congress</td>\n",
       "      <td>4</td>\n",
       "    </tr>\n",
       "    <tr>\n",
       "      <th>76</th>\n",
       "      <td>2023-05</td>\n",
       "      <td>Social</td>\n",
       "      <td>2</td>\n",
       "    </tr>\n",
       "  </tbody>\n",
       "</table>\n",
       "<p>77 rows × 3 columns</p>\n",
       "</div>"
      ],
      "text/plain": [
       "   YearMonth  EventType  SetNo\n",
       "0    2014-12     Social      3\n",
       "1    2015-01     Social      1\n",
       "2    2015-03     Social      2\n",
       "3    2015-05     Social      1\n",
       "4    2015-05  Weekender      1\n",
       "..       ...        ...    ...\n",
       "72   2022-03     Social      1\n",
       "73   2022-04   Congress      4\n",
       "74   2023-04     Social      3\n",
       "75   2023-05   Congress      4\n",
       "76   2023-05     Social      2\n",
       "\n",
       "[77 rows x 3 columns]"
      ]
     },
     "execution_count": 16,
     "metadata": {},
     "output_type": "execute_result"
    }
   ],
   "source": [
    "dff = (\n",
    "    df.assign(\n",
    "        YearMonth=lambda x: x.index.strftime(\"%Y-%m\"),\n",
    "        # MonthYear=lambda x: x.index.strftime(\"%m-%Y\"),\n",
    "    )\n",
    "    .groupby([\"YearMonth\", \"EventType\"])\n",
    "    .SetNo.count()\n",
    "    .reset_index(drop=False)\n",
    ")\n",
    "dff"
   ]
  },
  {
   "cell_type": "code",
   "execution_count": 7,
   "metadata": {},
   "outputs": [
    {
     "data": {
      "application/vnd.plotly.v1+json": {
       "config": {
        "plotlyServerURL": "https://plot.ly"
       },
       "data": [
        {
         "alignmentgroup": "True",
         "hovertemplate": "MonthYear=%{x}<br>SetNo=%{y}<extra></extra>",
         "legendgroup": "",
         "marker": {
          "color": "#000001",
          "pattern": {
           "shape": ""
          }
         },
         "name": "",
         "offsetgroup": "",
         "orientation": "v",
         "showlegend": false,
         "textposition": "auto",
         "type": "bar",
         "x": [
          "Apr 2016",
          "Apr 2017",
          "Apr 2018",
          "Apr 2019",
          "Apr 2019",
          "Apr 2022",
          "Apr 2023",
          "Aug 2015",
          "Aug 2016",
          "Aug 2016",
          "Aug 2018",
          "Aug 2019",
          "Dec 2014",
          "Dec 2015",
          "Dec 2015",
          "Dec 2015",
          "Dec 2016",
          "Dec 2016",
          "Dec 2017",
          "Dec 2018",
          "Feb 2016",
          "Feb 2017",
          "Feb 2018",
          "Feb 2019",
          "Feb 2022",
          "Jan 2015",
          "Jan 2016",
          "Jan 2017",
          "Jan 2017",
          "Jan 2018",
          "Jan 2018",
          "Jan 2022",
          "Jul 2015",
          "Jul 2016",
          "Jul 2017",
          "Jul 2018",
          "Jul 2018",
          "Jul 2019",
          "Jun 2016",
          "Jun 2016",
          "Jun 2018",
          "Jun 2018",
          "Mar 2015",
          "Mar 2016",
          "Mar 2017",
          "Mar 2018",
          "Mar 2019",
          "Mar 2019",
          "Mar 2022",
          "May 2015",
          "May 2015",
          "May 2016",
          "May 2016",
          "May 2017",
          "May 2017",
          "May 2018",
          "May 2019",
          "May 2023",
          "May 2023",
          "Nov 2015",
          "Nov 2015",
          "Nov 2016",
          "Nov 2017",
          "Nov 2019",
          "Nov 2021",
          "Oct 2015",
          "Oct 2015",
          "Oct 2016",
          "Oct 2016",
          "Oct 2019",
          "Oct 2019",
          "Oct 2021",
          "Sep 2016",
          "Sep 2017",
          "Sep 2017",
          "Sep 2018",
          "Sep 2019"
         ],
         "xaxis": "x",
         "y": [
          1,
          4,
          3,
          3,
          2,
          4,
          3,
          4,
          1,
          1,
          1,
          1,
          3,
          2,
          1,
          2,
          5,
          3,
          1,
          1,
          2,
          2,
          1,
          1,
          2,
          1,
          5,
          1,
          2,
          4,
          1,
          1,
          4,
          5,
          1,
          3,
          3,
          3,
          1,
          4,
          1,
          2,
          2,
          3,
          3,
          1,
          1,
          1,
          1,
          1,
          1,
          1,
          2,
          3,
          2,
          4,
          2,
          4,
          2,
          2,
          3,
          6,
          3,
          2,
          1,
          4,
          2,
          6,
          6,
          2,
          1,
          1,
          9,
          2,
          1,
          3,
          2
         ],
         "yaxis": "y"
        }
       ],
       "layout": {
        "barmode": "relative",
        "legend": {
         "tracegroupgap": 0
        },
        "margin": {
         "t": 60
        },
        "template": {
         "data": {
          "candlestick": [
           {
            "decreasing": {
             "line": {
              "color": "#000033"
             }
            },
            "increasing": {
             "line": {
              "color": "#000032"
             }
            },
            "type": "candlestick"
           }
          ],
          "contour": [
           {
            "colorscale": [
             [
              0,
              "#000011"
             ],
             [
              0.1111111111111111,
              "#000012"
             ],
             [
              0.2222222222222222,
              "#000013"
             ],
             [
              0.3333333333333333,
              "#000014"
             ],
             [
              0.4444444444444444,
              "#000015"
             ],
             [
              0.5555555555555556,
              "#000016"
             ],
             [
              0.6666666666666666,
              "#000017"
             ],
             [
              0.7777777777777778,
              "#000018"
             ],
             [
              0.8888888888888888,
              "#000019"
             ],
             [
              1,
              "#000020"
             ]
            ],
            "type": "contour"
           }
          ],
          "contourcarpet": [
           {
            "colorscale": [
             [
              0,
              "#000011"
             ],
             [
              0.1111111111111111,
              "#000012"
             ],
             [
              0.2222222222222222,
              "#000013"
             ],
             [
              0.3333333333333333,
              "#000014"
             ],
             [
              0.4444444444444444,
              "#000015"
             ],
             [
              0.5555555555555556,
              "#000016"
             ],
             [
              0.6666666666666666,
              "#000017"
             ],
             [
              0.7777777777777778,
              "#000018"
             ],
             [
              0.8888888888888888,
              "#000019"
             ],
             [
              1,
              "#000020"
             ]
            ],
            "type": "contourcarpet"
           }
          ],
          "heatmap": [
           {
            "colorscale": [
             [
              0,
              "#000011"
             ],
             [
              0.1111111111111111,
              "#000012"
             ],
             [
              0.2222222222222222,
              "#000013"
             ],
             [
              0.3333333333333333,
              "#000014"
             ],
             [
              0.4444444444444444,
              "#000015"
             ],
             [
              0.5555555555555556,
              "#000016"
             ],
             [
              0.6666666666666666,
              "#000017"
             ],
             [
              0.7777777777777778,
              "#000018"
             ],
             [
              0.8888888888888888,
              "#000019"
             ],
             [
              1,
              "#000020"
             ]
            ],
            "type": "heatmap"
           }
          ],
          "histogram2d": [
           {
            "colorscale": [
             [
              0,
              "#000011"
             ],
             [
              0.1111111111111111,
              "#000012"
             ],
             [
              0.2222222222222222,
              "#000013"
             ],
             [
              0.3333333333333333,
              "#000014"
             ],
             [
              0.4444444444444444,
              "#000015"
             ],
             [
              0.5555555555555556,
              "#000016"
             ],
             [
              0.6666666666666666,
              "#000017"
             ],
             [
              0.7777777777777778,
              "#000018"
             ],
             [
              0.8888888888888888,
              "#000019"
             ],
             [
              1,
              "#000020"
             ]
            ],
            "type": "histogram2d"
           }
          ],
          "icicle": [
           {
            "textfont": {
             "color": "white"
            },
            "type": "icicle"
           }
          ],
          "sankey": [
           {
            "textfont": {
             "color": "#000036"
            },
            "type": "sankey"
           }
          ],
          "scatter": [
           {
            "marker": {
             "line": {
              "width": 0
             }
            },
            "type": "scatter"
           }
          ],
          "table": [
           {
            "cells": {
             "fill": {
              "color": "#000038"
             },
             "font": {
              "color": "#000037"
             },
             "line": {
              "color": "#000039"
             }
            },
            "header": {
             "fill": {
              "color": "#000040"
             },
             "font": {
              "color": "#000036"
             },
             "line": {
              "color": "#000039"
             }
            },
            "type": "table"
           }
          ],
          "waterfall": [
           {
            "connector": {
             "line": {
              "color": "#000036",
              "width": 2
             }
            },
            "decreasing": {
             "marker": {
              "color": "#000033"
             }
            },
            "increasing": {
             "marker": {
              "color": "#000032"
             }
            },
            "totals": {
             "marker": {
              "color": "#000034"
             }
            },
            "type": "waterfall"
           }
          ]
         },
         "layout": {
          "coloraxis": {
           "colorscale": [
            [
             0,
             "#000011"
            ],
            [
             0.1111111111111111,
             "#000012"
            ],
            [
             0.2222222222222222,
             "#000013"
            ],
            [
             0.3333333333333333,
             "#000014"
            ],
            [
             0.4444444444444444,
             "#000015"
            ],
            [
             0.5555555555555556,
             "#000016"
            ],
            [
             0.6666666666666666,
             "#000017"
            ],
            [
             0.7777777777777778,
             "#000018"
            ],
            [
             0.8888888888888888,
             "#000019"
            ],
            [
             1,
             "#000020"
            ]
           ]
          },
          "colorscale": {
           "diverging": [
            [
             0,
             "#000021"
            ],
            [
             0.1,
             "#000022"
            ],
            [
             0.2,
             "#000023"
            ],
            [
             0.3,
             "#000024"
            ],
            [
             0.4,
             "#000025"
            ],
            [
             0.5,
             "#000026"
            ],
            [
             0.6,
             "#000027"
            ],
            [
             0.7,
             "#000028"
            ],
            [
             0.8,
             "#000029"
            ],
            [
             0.9,
             "#000030"
            ],
            [
             1,
             "#000031"
            ]
           ],
           "sequential": [
            [
             0,
             "#000011"
            ],
            [
             0.1111111111111111,
             "#000012"
            ],
            [
             0.2222222222222222,
             "#000013"
            ],
            [
             0.3333333333333333,
             "#000014"
            ],
            [
             0.4444444444444444,
             "#000015"
            ],
            [
             0.5555555555555556,
             "#000016"
            ],
            [
             0.6666666666666666,
             "#000017"
            ],
            [
             0.7777777777777778,
             "#000018"
            ],
            [
             0.8888888888888888,
             "#000019"
            ],
            [
             1,
             "#000020"
            ]
           ],
           "sequentialminus": [
            [
             0,
             "#000011"
            ],
            [
             0.1111111111111111,
             "#000012"
            ],
            [
             0.2222222222222222,
             "#000013"
            ],
            [
             0.3333333333333333,
             "#000014"
            ],
            [
             0.4444444444444444,
             "#000015"
            ],
            [
             0.5555555555555556,
             "#000016"
            ],
            [
             0.6666666666666666,
             "#000017"
            ],
            [
             0.7777777777777778,
             "#000018"
            ],
            [
             0.8888888888888888,
             "#000019"
            ],
            [
             1,
             "#000020"
            ]
           ]
          },
          "colorway": [
           "#000001",
           "#000002",
           "#000003",
           "#000004",
           "#000005",
           "#000006",
           "#000007",
           "#000008",
           "#000009",
           "#000010"
          ]
         }
        },
        "xaxis": {
         "anchor": "y",
         "domain": [
          0,
          1
         ],
         "title": {
          "text": "MonthYear"
         }
        },
        "yaxis": {
         "anchor": "x",
         "domain": [
          0,
          1
         ],
         "title": {
          "text": "SetNo"
         }
        }
       }
      }
     },
     "metadata": {},
     "output_type": "display_data"
    }
   ],
   "source": [
    "fig = px.bar(dff, x=\"MonthYear\", y=\"SetNo\")\n",
    "fig.show()"
   ]
  },
  {
   "cell_type": "code",
   "execution_count": null,
   "metadata": {},
   "outputs": [],
   "source": [
    "dff = (\n",
    "    df.resample(\"M\")\n",
    "    .SetNo.count()\n",
    "    .reset_index(drop=False)\n",
    "    .assign(MonthYear=lambda x: x.Date.dt.strftime(\"%b %Y\"))\n",
    "    .drop(columns=[\"Date\"])\n",
    "    .rename(columns={\"SetNo\": \"Sets Count\"})\n",
    "    # .plot.bar(x=\"MonthYear\", y=\"Sets Count\")\n",
    ")"
   ]
  },
  {
   "cell_type": "code",
   "execution_count": null,
   "metadata": {},
   "outputs": [],
   "source": [
    "fig = px.bar(dff, x=\"MonthYear\", y=\"Sets Count\")\n",
    "# st.plotly_chart(fig, use_container_width=True)\n",
    "fig.show()"
   ]
  }
 ],
 "metadata": {
  "kernelspec": {
   "display_name": "streamlit_py39",
   "language": "python",
   "name": "python3"
  },
  "language_info": {
   "codemirror_mode": {
    "name": "ipython",
    "version": 3
   },
   "file_extension": ".py",
   "mimetype": "text/x-python",
   "name": "python",
   "nbconvert_exporter": "python",
   "pygments_lexer": "ipython3",
   "version": "3.9.16"
  },
  "orig_nbformat": 4
 },
 "nbformat": 4,
 "nbformat_minor": 2
}
